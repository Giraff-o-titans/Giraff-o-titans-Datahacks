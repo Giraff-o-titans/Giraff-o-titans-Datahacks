{
 "cells": [
  {
   "cell_type": "code",
   "execution_count": 1,
   "id": "d56206b0",
   "metadata": {},
   "outputs": [],
   "source": [
    "import pandas as pd\n",
    "import numpy as np"
   ]
  },
  {
   "cell_type": "code",
   "execution_count": 4,
   "id": "598d88a0",
   "metadata": {},
   "outputs": [],
   "source": [
    "# DataFrames\n",
    "dinosaur = pd.read_csv('Datasets/jurassicparkwithweights.csv')\n",
    "distances = pd.read_csv('Datasets/distances.csv')\n",
    "animal = pd.read_csv('Datasets/Clean-Animal-Info.csv')"
   ]
  },
  {
   "cell_type": "code",
   "execution_count": 5,
   "id": "299831e1",
   "metadata": {},
   "outputs": [],
   "source": [
    "# Clean distances DataFrame\n",
    "def clean_whitespace(country):\n",
    "    return country[1:]\n",
    "\n",
    "distances = distances.assign(Country2=distances['Country2'].apply(clean_whitespace))\n",
    "distances = distances.set_index('Country1')"
   ]
  },
  {
   "cell_type": "code",
   "execution_count": 6,
   "id": "bbbda5bf",
   "metadata": {},
   "outputs": [],
   "source": [
    "# Clean dinosaur DataFrame\n",
    "def format_diet(diet): \n",
    "    conversion = {\n",
    "        \"herbivorous\": 'Herbivore',\n",
    "        \"carnivorous\": 'Carnivore',\n",
    "        \"omnivorous\": 'Omnivore'\n",
    "    }\n",
    "    if diet in conversion:\n",
    "        return conversion[diet]\n",
    "    return None\n",
    "\n",
    "def format_height(height):\n",
    "    height = str(height)\n",
    "    height = height.strip('m')\n",
    "    return .53 * float(height)\n",
    "\n",
    "def clean_countries(country):\n",
    "    if country == 'USA':\n",
    "        return \"United States\"\n",
    "    elif country == 'North Africa':\n",
    "        return \"Algeria\"\n",
    "    elif country == 'Wales':\n",
    "        return \"United Kingdom\"\n",
    "    else:\n",
    "        return country\n",
    "    \n",
    "def fix_diet(diet):\n",
    "    insectivore = diet == 'Insectivore' or diet == 'Carnivore, Insectivore'\n",
    "    piscivore = diet == 'Carnivore, Piscivore' or diet == 'Piscivore'\n",
    "    scavenger = diet == 'Carnivore, Scavenger'\n",
    "    filter_feeder = diet == 'Filter Feeder'\n",
    "    omnivore = diet == 'Herbivore, Omnivore' or diet == 'Omnivore, Herbivore'\n",
    "    insects = diet == 'Nectar, Insects' or diet == 'Insectivore, Herbivore' or diet == 'Omnivore, Insectivore'\n",
    "    \n",
    "    if insectivore or piscivore or scavenger or filter_feeder:\n",
    "        return 'Carnivore'\n",
    "    elif omnivore or insects:\n",
    "        return 'Omnivore'\n",
    "    else:\n",
    "        return diet \n",
    "\n",
    "def convert_diet(diet):\n",
    "    if diet == 'Carnivore':\n",
    "        return 0\n",
    "    elif diet == 'Omnivore':\n",
    "        return 1\n",
    "    elif diet == 'Herbivore':\n",
    "        return 2    \n",
    "\n",
    "new_dino = dinosaur.assign(\n",
    "    Diet = dinosaur['diet'].apply(format_diet),\n",
    "    Country = dinosaur['lived_in'],\n",
    "    Height = dinosaur['length'].apply(format_height)\n",
    ")\n",
    "\n",
    "final_dino = new_dino[['name', 'Diet','Country', 'Height', 'weight']]\n",
    "final_dino = final_dino.set_index('name')\n",
    "final_dino = final_dino.assign(Country=final_dino['Country'].apply(clean_countries))\n",
    "final_dino = final_dino.dropna()\n",
    "final_dino = final_dino.assign(Diet=final_dino['Diet'].apply(convert_diet))"
   ]
  },
  {
   "cell_type": "code",
   "execution_count": 7,
   "id": "9896dc56",
   "metadata": {},
   "outputs": [],
   "source": [
    "# Clean animal DataFrame\n",
    "def convert_height(height): \n",
    "    return height / 100\n",
    "\n",
    "final_animal = animal[['Height', 'Diet', 'Animal', 'Countries Found', 'Weight']]\n",
    "\n",
    "final_animal = final_animal.assign(\n",
    "    Height = final_animal['Height'].apply(convert_height),\n",
    "    Country = final_animal['Countries Found']\n",
    ")\n",
    "\n",
    "final_animal = final_animal.set_index('Animal')\n",
    "\n",
    "final_animal = final_animal[['Diet', 'Country','Height', 'Weight']]\n",
    "final_animal = final_animal.assign(Diet=final_animal['Diet'].apply(fix_diet))\n",
    "final_animal = final_animal.assign(Diet=final_animal['Diet'].apply(convert_diet))"
   ]
  },
  {
   "cell_type": "code",
   "execution_count": 8,
   "id": "972ffdd2",
   "metadata": {},
   "outputs": [],
   "source": [
    "# Normalization\n",
    "def normalize(x, m):\n",
    "    return (0.5*m) / (1+np.exp(10/m * (0.5*m-x)))\n",
    "\n",
    "def find_difference(animal, feature1, feature2, index):\n",
    "    difference = np.abs(final_animal.loc[animal][feature1]-final_dino[feature2])\n",
    "    feature_mean = difference.mean()\n",
    "    delta_feature = np.abs((final_animal.loc[animal][feature1] - final_dino.iloc[index][feature2]))\n",
    "    out = ((delta_feature) / feature_mean) ** 2\n",
    "    return out"
   ]
  },
  {
   "cell_type": "code",
   "execution_count": 9,
   "id": "7312890d",
   "metadata": {},
   "outputs": [
    {
     "ename": "ValueError",
     "evalue": "Length of values (0) does not match length of index (283)",
     "output_type": "error",
     "traceback": [
      "\u001b[1;31m---------------------------------------------------------------------------\u001b[0m",
      "\u001b[1;31mValueError\u001b[0m                                Traceback (most recent call last)",
      "Cell \u001b[1;32mIn[9], line 33\u001b[0m\n\u001b[0;32m     30\u001b[0m     updated_df \u001b[38;5;241m=\u001b[39m final_dino\u001b[38;5;241m.\u001b[39massign(Similarity_Score\u001b[38;5;241m=\u001b[39msimilarity_array)\n\u001b[0;32m     31\u001b[0m     \u001b[38;5;28;01mreturn\u001b[39;00m updated_df\u001b[38;5;241m.\u001b[39msort_values(\u001b[38;5;124m'\u001b[39m\u001b[38;5;124mSimilarity_Score\u001b[39m\u001b[38;5;124m'\u001b[39m, ascending\u001b[38;5;241m=\u001b[39m\u001b[38;5;28;01mTrue\u001b[39;00m)\n\u001b[1;32m---> 33\u001b[0m test \u001b[38;5;241m=\u001b[39m \u001b[43mcalculate_similarity\u001b[49m\u001b[43m(\u001b[49m\u001b[38;5;124;43m'\u001b[39;49m\u001b[38;5;124;43mZebra\u001b[39;49m\u001b[38;5;124;43m'\u001b[39;49m\u001b[43m)\u001b[49m\n\u001b[0;32m     34\u001b[0m test\n",
      "Cell \u001b[1;32mIn[9], line 30\u001b[0m, in \u001b[0;36mcalculate_similarity\u001b[1;34m(animal)\u001b[0m\n\u001b[0;32m     27\u001b[0m     similarity_score \u001b[38;5;241m=\u001b[39m dist_sum \u001b[38;5;241m*\u001b[39m\u001b[38;5;241m*\u001b[39m \u001b[38;5;241m0.5\u001b[39m\n\u001b[0;32m     28\u001b[0m     similarity_array \u001b[38;5;241m=\u001b[39m np\u001b[38;5;241m.\u001b[39mappend(similarity_array, similarity_score)\n\u001b[1;32m---> 30\u001b[0m updated_df \u001b[38;5;241m=\u001b[39m \u001b[43mfinal_dino\u001b[49m\u001b[38;5;241;43m.\u001b[39;49m\u001b[43massign\u001b[49m\u001b[43m(\u001b[49m\u001b[43mSimilarity_Score\u001b[49m\u001b[38;5;241;43m=\u001b[39;49m\u001b[43msimilarity_array\u001b[49m\u001b[43m)\u001b[49m\n\u001b[0;32m     31\u001b[0m \u001b[38;5;28;01mreturn\u001b[39;00m updated_df\u001b[38;5;241m.\u001b[39msort_values(\u001b[38;5;124m'\u001b[39m\u001b[38;5;124mSimilarity_Score\u001b[39m\u001b[38;5;124m'\u001b[39m, ascending\u001b[38;5;241m=\u001b[39m\u001b[38;5;28;01mTrue\u001b[39;00m)\n",
      "File \u001b[1;32mc:\\Users\\issac\\AppData\\Local\\Programs\\Python\\Python312\\Lib\\site-packages\\pandas\\core\\frame.py:5226\u001b[0m, in \u001b[0;36mDataFrame.assign\u001b[1;34m(self, **kwargs)\u001b[0m\n\u001b[0;32m   5223\u001b[0m data \u001b[38;5;241m=\u001b[39m \u001b[38;5;28mself\u001b[39m\u001b[38;5;241m.\u001b[39mcopy(deep\u001b[38;5;241m=\u001b[39m\u001b[38;5;28;01mNone\u001b[39;00m)\n\u001b[0;32m   5225\u001b[0m \u001b[38;5;28;01mfor\u001b[39;00m k, v \u001b[38;5;129;01min\u001b[39;00m kwargs\u001b[38;5;241m.\u001b[39mitems():\n\u001b[1;32m-> 5226\u001b[0m     \u001b[43mdata\u001b[49m\u001b[43m[\u001b[49m\u001b[43mk\u001b[49m\u001b[43m]\u001b[49m \u001b[38;5;241m=\u001b[39m com\u001b[38;5;241m.\u001b[39mapply_if_callable(v, data)\n\u001b[0;32m   5227\u001b[0m \u001b[38;5;28;01mreturn\u001b[39;00m data\n",
      "File \u001b[1;32mc:\\Users\\issac\\AppData\\Local\\Programs\\Python\\Python312\\Lib\\site-packages\\pandas\\core\\frame.py:4299\u001b[0m, in \u001b[0;36mDataFrame.__setitem__\u001b[1;34m(self, key, value)\u001b[0m\n\u001b[0;32m   4296\u001b[0m     \u001b[38;5;28mself\u001b[39m\u001b[38;5;241m.\u001b[39m_setitem_array([key], value)\n\u001b[0;32m   4297\u001b[0m \u001b[38;5;28;01melse\u001b[39;00m:\n\u001b[0;32m   4298\u001b[0m     \u001b[38;5;66;03m# set column\u001b[39;00m\n\u001b[1;32m-> 4299\u001b[0m     \u001b[38;5;28;43mself\u001b[39;49m\u001b[38;5;241;43m.\u001b[39;49m\u001b[43m_set_item\u001b[49m\u001b[43m(\u001b[49m\u001b[43mkey\u001b[49m\u001b[43m,\u001b[49m\u001b[43m \u001b[49m\u001b[43mvalue\u001b[49m\u001b[43m)\u001b[49m\n",
      "File \u001b[1;32mc:\\Users\\issac\\AppData\\Local\\Programs\\Python\\Python312\\Lib\\site-packages\\pandas\\core\\frame.py:4512\u001b[0m, in \u001b[0;36mDataFrame._set_item\u001b[1;34m(self, key, value)\u001b[0m\n\u001b[0;32m   4502\u001b[0m \u001b[38;5;28;01mdef\u001b[39;00m \u001b[38;5;21m_set_item\u001b[39m(\u001b[38;5;28mself\u001b[39m, key, value) \u001b[38;5;241m-\u001b[39m\u001b[38;5;241m>\u001b[39m \u001b[38;5;28;01mNone\u001b[39;00m:\n\u001b[0;32m   4503\u001b[0m \u001b[38;5;250m    \u001b[39m\u001b[38;5;124;03m\"\"\"\u001b[39;00m\n\u001b[0;32m   4504\u001b[0m \u001b[38;5;124;03m    Add series to DataFrame in specified column.\u001b[39;00m\n\u001b[0;32m   4505\u001b[0m \n\u001b[1;32m   (...)\u001b[0m\n\u001b[0;32m   4510\u001b[0m \u001b[38;5;124;03m    ensure homogeneity.\u001b[39;00m\n\u001b[0;32m   4511\u001b[0m \u001b[38;5;124;03m    \"\"\"\u001b[39;00m\n\u001b[1;32m-> 4512\u001b[0m     value, refs \u001b[38;5;241m=\u001b[39m \u001b[38;5;28;43mself\u001b[39;49m\u001b[38;5;241;43m.\u001b[39;49m\u001b[43m_sanitize_column\u001b[49m\u001b[43m(\u001b[49m\u001b[43mvalue\u001b[49m\u001b[43m)\u001b[49m\n\u001b[0;32m   4514\u001b[0m     \u001b[38;5;28;01mif\u001b[39;00m (\n\u001b[0;32m   4515\u001b[0m         key \u001b[38;5;129;01min\u001b[39;00m \u001b[38;5;28mself\u001b[39m\u001b[38;5;241m.\u001b[39mcolumns\n\u001b[0;32m   4516\u001b[0m         \u001b[38;5;129;01mand\u001b[39;00m value\u001b[38;5;241m.\u001b[39mndim \u001b[38;5;241m==\u001b[39m \u001b[38;5;241m1\u001b[39m\n\u001b[0;32m   4517\u001b[0m         \u001b[38;5;129;01mand\u001b[39;00m \u001b[38;5;129;01mnot\u001b[39;00m \u001b[38;5;28misinstance\u001b[39m(value\u001b[38;5;241m.\u001b[39mdtype, ExtensionDtype)\n\u001b[0;32m   4518\u001b[0m     ):\n\u001b[0;32m   4519\u001b[0m         \u001b[38;5;66;03m# broadcast across multiple columns if necessary\u001b[39;00m\n\u001b[0;32m   4520\u001b[0m         \u001b[38;5;28;01mif\u001b[39;00m \u001b[38;5;129;01mnot\u001b[39;00m \u001b[38;5;28mself\u001b[39m\u001b[38;5;241m.\u001b[39mcolumns\u001b[38;5;241m.\u001b[39mis_unique \u001b[38;5;129;01mor\u001b[39;00m \u001b[38;5;28misinstance\u001b[39m(\u001b[38;5;28mself\u001b[39m\u001b[38;5;241m.\u001b[39mcolumns, MultiIndex):\n",
      "File \u001b[1;32mc:\\Users\\issac\\AppData\\Local\\Programs\\Python\\Python312\\Lib\\site-packages\\pandas\\core\\frame.py:5253\u001b[0m, in \u001b[0;36mDataFrame._sanitize_column\u001b[1;34m(self, value)\u001b[0m\n\u001b[0;32m   5250\u001b[0m     \u001b[38;5;28;01mreturn\u001b[39;00m _reindex_for_setitem(value, \u001b[38;5;28mself\u001b[39m\u001b[38;5;241m.\u001b[39mindex)\n\u001b[0;32m   5252\u001b[0m \u001b[38;5;28;01mif\u001b[39;00m is_list_like(value):\n\u001b[1;32m-> 5253\u001b[0m     \u001b[43mcom\u001b[49m\u001b[38;5;241;43m.\u001b[39;49m\u001b[43mrequire_length_match\u001b[49m\u001b[43m(\u001b[49m\u001b[43mvalue\u001b[49m\u001b[43m,\u001b[49m\u001b[43m \u001b[49m\u001b[38;5;28;43mself\u001b[39;49m\u001b[38;5;241;43m.\u001b[39;49m\u001b[43mindex\u001b[49m\u001b[43m)\u001b[49m\n\u001b[0;32m   5254\u001b[0m arr \u001b[38;5;241m=\u001b[39m sanitize_array(value, \u001b[38;5;28mself\u001b[39m\u001b[38;5;241m.\u001b[39mindex, copy\u001b[38;5;241m=\u001b[39m\u001b[38;5;28;01mTrue\u001b[39;00m, allow_2d\u001b[38;5;241m=\u001b[39m\u001b[38;5;28;01mTrue\u001b[39;00m)\n\u001b[0;32m   5255\u001b[0m \u001b[38;5;28;01mif\u001b[39;00m (\n\u001b[0;32m   5256\u001b[0m     \u001b[38;5;28misinstance\u001b[39m(value, Index)\n\u001b[0;32m   5257\u001b[0m     \u001b[38;5;129;01mand\u001b[39;00m value\u001b[38;5;241m.\u001b[39mdtype \u001b[38;5;241m==\u001b[39m \u001b[38;5;124m\"\u001b[39m\u001b[38;5;124mobject\u001b[39m\u001b[38;5;124m\"\u001b[39m\n\u001b[1;32m   (...)\u001b[0m\n\u001b[0;32m   5260\u001b[0m     \u001b[38;5;66;03m# TODO: Remove kludge in sanitize_array for string mode when enforcing\u001b[39;00m\n\u001b[0;32m   5261\u001b[0m     \u001b[38;5;66;03m# this deprecation\u001b[39;00m\n",
      "File \u001b[1;32mc:\\Users\\issac\\AppData\\Local\\Programs\\Python\\Python312\\Lib\\site-packages\\pandas\\core\\common.py:573\u001b[0m, in \u001b[0;36mrequire_length_match\u001b[1;34m(data, index)\u001b[0m\n\u001b[0;32m    569\u001b[0m \u001b[38;5;250m\u001b[39m\u001b[38;5;124;03m\"\"\"\u001b[39;00m\n\u001b[0;32m    570\u001b[0m \u001b[38;5;124;03mCheck the length of data matches the length of the index.\u001b[39;00m\n\u001b[0;32m    571\u001b[0m \u001b[38;5;124;03m\"\"\"\u001b[39;00m\n\u001b[0;32m    572\u001b[0m \u001b[38;5;28;01mif\u001b[39;00m \u001b[38;5;28mlen\u001b[39m(data) \u001b[38;5;241m!=\u001b[39m \u001b[38;5;28mlen\u001b[39m(index):\n\u001b[1;32m--> 573\u001b[0m     \u001b[38;5;28;01mraise\u001b[39;00m \u001b[38;5;167;01mValueError\u001b[39;00m(\n\u001b[0;32m    574\u001b[0m         \u001b[38;5;124m\"\u001b[39m\u001b[38;5;124mLength of values \u001b[39m\u001b[38;5;124m\"\u001b[39m\n\u001b[0;32m    575\u001b[0m         \u001b[38;5;124mf\u001b[39m\u001b[38;5;124m\"\u001b[39m\u001b[38;5;124m(\u001b[39m\u001b[38;5;132;01m{\u001b[39;00m\u001b[38;5;28mlen\u001b[39m(data)\u001b[38;5;132;01m}\u001b[39;00m\u001b[38;5;124m) \u001b[39m\u001b[38;5;124m\"\u001b[39m\n\u001b[0;32m    576\u001b[0m         \u001b[38;5;124m\"\u001b[39m\u001b[38;5;124mdoes not match length of index \u001b[39m\u001b[38;5;124m\"\u001b[39m\n\u001b[0;32m    577\u001b[0m         \u001b[38;5;124mf\u001b[39m\u001b[38;5;124m\"\u001b[39m\u001b[38;5;124m(\u001b[39m\u001b[38;5;132;01m{\u001b[39;00m\u001b[38;5;28mlen\u001b[39m(index)\u001b[38;5;132;01m}\u001b[39;00m\u001b[38;5;124m)\u001b[39m\u001b[38;5;124m\"\u001b[39m\n\u001b[0;32m    578\u001b[0m     )\n",
      "\u001b[1;31mValueError\u001b[0m: Length of values (0) does not match length of index (283)"
     ]
    }
   ],
   "source": [
    "# Similarity Function\n",
    "def calculate_similarity(animal):\n",
    "    similarity_array = np.array([])\n",
    "    animal_location = final_animal.loc[animal]['Country']\n",
    "    distances_location = distances.reset_index()\n",
    "    distances_location = distances_location[distances_location['Country1'] == animal_location]\n",
    "    \n",
    "    for i in range(final_dino.shape[0]):\n",
    "        dist_sum = 0\n",
    "        #Diet Similarity\n",
    "        difference = np.abs(final_animal.loc[animal]['Diet']-final_dino['Diet'])\n",
    "        dist_sum += difference.iloc[i] ** 2\n",
    "             \n",
    "        #Height Similarity\n",
    "        dist_sum += find_difference(animal, 'Height', 'Height', i)\n",
    "        \n",
    "        \n",
    "        #Weight Similarity\n",
    "        dist_sum += find_difference(animal, 'Weight', 'weight', i)\n",
    "        \n",
    "        #Distance Similarity\n",
    "        delta_dist = distances_location[distances_location['Country2']==final_dino.iloc[i]['Country']]['Distance']\n",
    "        dist_mean = distances_location['Distance'].mean()\n",
    "\n",
    "        dist_sum += ((delta_dist) / dist_mean) ** 2\n",
    "        \n",
    "        similarity_score = dist_sum ** 0.5\n",
    "        similarity_array = np.append(similarity_array, similarity_score)\n",
    "    \n",
    "    updated_df = final_dino.assign(Similarity_Score=similarity_array)\n",
    "    return updated_df.sort_values('Similarity_Score', ascending=True)\n",
    "\n",
    "test = calculate_similarity('Zebra')\n",
    "test\n"
   ]
  },
  {
   "cell_type": "code",
   "execution_count": 10,
   "id": "0dfdf344",
   "metadata": {
    "scrolled": true
   },
   "outputs": [
    {
     "ename": "NameError",
     "evalue": "name 'distances_locationtest' is not defined",
     "output_type": "error",
     "traceback": [
      "\u001b[1;31m---------------------------------------------------------------------------\u001b[0m",
      "\u001b[1;31mNameError\u001b[0m                                 Traceback (most recent call last)",
      "Cell \u001b[1;32mIn[10], line 1\u001b[0m\n\u001b[1;32m----> 1\u001b[0m \u001b[43mdistances_locationtest\u001b[49m[distances_locationtest[\u001b[38;5;124m'\u001b[39m\u001b[38;5;124mCountry2\u001b[39m\u001b[38;5;124m'\u001b[39m]\u001b[38;5;241m==\u001b[39mfinal_dino\u001b[38;5;241m.\u001b[39miloc[\u001b[38;5;241m1\u001b[39m][\u001b[38;5;124m'\u001b[39m\u001b[38;5;124mCountry\u001b[39m\u001b[38;5;124m'\u001b[39m]][\u001b[38;5;124m'\u001b[39m\u001b[38;5;124mDistance\u001b[39m\u001b[38;5;124m'\u001b[39m]\n",
      "\u001b[1;31mNameError\u001b[0m: name 'distances_locationtest' is not defined"
     ]
    }
   ],
   "source": [
    "distances_locationtest[distances_locationtest['Country2']==final_dino.iloc[1]['Country']]['Distance']"
   ]
  },
  {
   "cell_type": "code",
   "execution_count": 11,
   "id": "77931676",
   "metadata": {},
   "outputs": [
    {
     "data": {
      "text/html": [
       "<div>\n",
       "<style scoped>\n",
       "    .dataframe tbody tr th:only-of-type {\n",
       "        vertical-align: middle;\n",
       "    }\n",
       "\n",
       "    .dataframe tbody tr th {\n",
       "        vertical-align: top;\n",
       "    }\n",
       "\n",
       "    .dataframe thead th {\n",
       "        text-align: right;\n",
       "    }\n",
       "</style>\n",
       "<table border=\"1\" class=\"dataframe\">\n",
       "  <thead>\n",
       "    <tr style=\"text-align: right;\">\n",
       "      <th></th>\n",
       "      <th>name</th>\n",
       "      <th>Diet</th>\n",
       "      <th>Country</th>\n",
       "      <th>Height</th>\n",
       "      <th>weight</th>\n",
       "    </tr>\n",
       "  </thead>\n",
       "  <tbody>\n",
       "    <tr>\n",
       "      <th>233</th>\n",
       "      <td>shanag</td>\n",
       "      <td>0</td>\n",
       "      <td>Mongolia</td>\n",
       "      <td>0.2385</td>\n",
       "      <td>1.0</td>\n",
       "    </tr>\n",
       "  </tbody>\n",
       "</table>\n",
       "</div>"
      ],
      "text/plain": [
       "       name  Diet   Country  Height  weight\n",
       "233  shanag     0  Mongolia  0.2385     1.0"
      ]
     },
     "execution_count": 11,
     "metadata": {},
     "output_type": "execute_result"
    }
   ],
   "source": [
    "dinotest = final_dino.reset_index()\n",
    "dinotest[dinotest['name'] == 'shanag']"
   ]
  },
  {
   "cell_type": "code",
   "execution_count": 12,
   "id": "b379086f",
   "metadata": {},
   "outputs": [
    {
     "data": {
      "text/html": [
       "<div>\n",
       "<style scoped>\n",
       "    .dataframe tbody tr th:only-of-type {\n",
       "        vertical-align: middle;\n",
       "    }\n",
       "\n",
       "    .dataframe tbody tr th {\n",
       "        vertical-align: top;\n",
       "    }\n",
       "\n",
       "    .dataframe thead th {\n",
       "        text-align: right;\n",
       "    }\n",
       "</style>\n",
       "<table border=\"1\" class=\"dataframe\">\n",
       "  <thead>\n",
       "    <tr style=\"text-align: right;\">\n",
       "      <th></th>\n",
       "      <th>name</th>\n",
       "      <th>Diet</th>\n",
       "      <th>Country</th>\n",
       "      <th>Height</th>\n",
       "      <th>weight</th>\n",
       "    </tr>\n",
       "  </thead>\n",
       "  <tbody>\n",
       "    <tr>\n",
       "      <th>128</th>\n",
       "      <td>indosuchus</td>\n",
       "      <td>0</td>\n",
       "      <td>India</td>\n",
       "      <td>3.71</td>\n",
       "      <td>2360.539442</td>\n",
       "    </tr>\n",
       "  </tbody>\n",
       "</table>\n",
       "</div>"
      ],
      "text/plain": [
       "           name  Diet Country  Height       weight\n",
       "128  indosuchus     0   India    3.71  2360.539442"
      ]
     },
     "execution_count": 12,
     "metadata": {},
     "output_type": "execute_result"
    }
   ],
   "source": [
    "dinotest[dinotest['name'] == 'indosuchus']"
   ]
  }
 ],
 "metadata": {
  "kernelspec": {
   "display_name": "Python 3 (ipykernel)",
   "language": "python",
   "name": "python3"
  },
  "language_info": {
   "codemirror_mode": {
    "name": "ipython",
    "version": 3
   },
   "file_extension": ".py",
   "mimetype": "text/x-python",
   "name": "python",
   "nbconvert_exporter": "python",
   "pygments_lexer": "ipython3",
   "version": "3.12.1"
  }
 },
 "nbformat": 4,
 "nbformat_minor": 5
}
