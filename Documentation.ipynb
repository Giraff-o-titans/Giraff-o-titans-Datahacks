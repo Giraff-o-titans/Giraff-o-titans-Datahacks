{
 "cells": [
  {
   "cell_type": "markdown",
   "id": "164dd715",
   "metadata": {},
   "source": [
    "# Animal to Dino Transformer\n",
    "\n",
    "Welcome to the Animal to Dino Transformer!\n",
    "\n",
    "Input any animal from the dropdown, and we'll give you its most similar dinosaur!\n",
    "\n",
    "[Dropdown]\n",
    "\n",
    "\n",
    "\n",
    "\n",
    "\n",
    "\n",
    "\n",
    "\n",
    "\n",
    "\n",
    "\n",
    "\n",
    "\n",
    "\n",
    "\n",
    "\n",
    "\n",
    "\n",
    "\n",
    "\n",
    "\n",
    "\n",
    "\n",
    "\n",
    "\n",
    "\n",
    "\n",
    "\n"
   ]
  },
  {
   "cell_type": "markdown",
   "id": "02ca31a1",
   "metadata": {},
   "source": [
    "### Datasets\n",
    "\n",
    "### Animal Information Dataset\n",
    "What: The animal information dataset contains 196 unique values of various animals, including information such as their height, weight, diet, and countries found in. It is compiled using information from Wikipedia.\n",
    "\n",
    "Why: We wanted to investigate the similarities between animals of today and dinosaurs of the past, so naturally, we decided to use an animal information dataset.\n",
    "\n",
    "[Kaggle Link](https://www.kaggle.com/datasets/iamsouravbanerjee/animal-information-dataset)\n",
    "\n",
    "[Insert data.head]\n",
    "\n",
    "### Jurassic Park Dinosaur Dataset\n",
    "What: The Jurassic Park dinosaur dataset contains 309 unique values of various dinosaurs. It is compiled using information from the National History Museum.\n",
    "\n",
    "Why: To calculate the similarities between animals and dinosaurs, we wanted to have as many comparable features as possible. In addition to diet and location, it contains length, which can also be compared with the height of the animals from the animal dataset.\n",
    "\n",
    "[Kaggle Link](https://www.kaggle.com/datasets/kjanjua/jurassic-park-the-exhaustive-dinosaur-dataset)\n",
    "\n",
    "[Insert data.head]\n",
    "\n"
   ]
  },
  {
   "cell_type": "markdown",
   "id": "1e9eb90d",
   "metadata": {},
   "source": [
    "# Similarity Score Algorithm\n",
    "Using the four comparable features (Diet, Height, Country, Weight), we calculated the most similar dinosaur to a given animal.\n",
    "\n",
    "### Diet Preparation\n",
    "The three main categories of diets are herbivores, carnivores, and omnivores. In order to generate a distribution of the differences in diets, we assigned these values to each category: <br> <br>\n",
    "Carnivore: 0, Omnivore: 1, Herbivore: 2 <br> <br>\n",
    "We placed omnivore in between carnivore and herbivore to make the differences less between (omnivore - herbivore) or (omnivore - carnivore) because carnivores or herbivores are essentially subsets of omnivores, but herbivores and carnivores are entirely different.\n",
    "\n",
    "### Weight and Height Preparation\n",
    "We found a data set online of about 50 dinosaurs that included height, weight, and length from this website: http://www.dinodatabase.com/dinorcds.asp. This is significant because it allowed us to create simple regression models to predict height and weight from length, which is the only feature we had for our entire dinosaur dataset. Upon inspection, a linear regression worked best for length to height, and a quadratic regression worked best from length to weight. We set a hard minimum of 1 kilogram for the weight, since small lengths were producing negative values. \n",
    "\n",
    "### Actual algorithm\n",
    "Step 1 -- Calculating Differences) Given an animal, we generate a dataframe with the log of the differences between the animal - dinosaur (Diet, Height, Country, and Weight) for each dinosaur.\n",
    "\n",
    "Step 2 -- Normalizing Differences) Then, we normalized each difference by dividing it by the average distance. This is to make sure that the weight and distance between countries categories didn't override the others, which they would naturally because they're just naturally bigger numbers. Note that this was not done for the difference in diet. We didn't feel that scaling it down would make sense, since we viewed the diet as an important enough feature that it should contribute a bit more.\n",
    "\n",
    "Step 3 -- Euclidean Distance) After, we calculated the Euclidean distance for each dinosaur to the original animal using the normalized distances for the four features. The formula for Euclidian distance squares the values, so negative values, which should really be treated the same as positive values, didn't make our similarity score go down.\n",
    "\n",
    "Step 4 -- Determining Most Similar Dinosaur) Finally, we found the dinosaur with the smallest Euclidean distance as the most similar dinosaur.\n",
    "\n",
    "[Insert visual example]\n",
    "\n",
    "\n"
   ]
  },
  {
   "cell_type": "markdown",
   "id": "33dfbe0d",
   "metadata": {},
   "source": [
    "# Neural Network for Additional Dinosaur Stats\n",
    "We wanted to investigate how we could use the height and weight of the animals to predict additional features for each dinosaur.\n",
    "\n",
    "[Issac insert stuff]\n",
    "\n"
   ]
  }
 ],
 "metadata": {
  "kernelspec": {
   "display_name": "Python 3 (ipykernel)",
   "language": "python",
   "name": "python3"
  },
  "language_info": {
   "codemirror_mode": {
    "name": "ipython",
    "version": 3
   },
   "file_extension": ".py",
   "mimetype": "text/x-python",
   "name": "python",
   "nbconvert_exporter": "python",
   "pygments_lexer": "ipython3",
   "version": "3.9.5"
  }
 },
 "nbformat": 4,
 "nbformat_minor": 5
}
