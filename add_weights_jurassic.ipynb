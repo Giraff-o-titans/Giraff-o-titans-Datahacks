{
 "cells": [
  {
   "cell_type": "markdown",
   "metadata": {},
   "source": [
    "This notebook's purpose is to add a weights column to the Jurassic Park dataset, which previously contained only lengths. Another database (dinodatabase) will be used to fill in the missing values. If a dinosaur is in the Jurassic Park dataset but not dinodatabase, a quadratic regression model will be used to predict the weight."
   ]
  },
  {
   "cell_type": "code",
   "execution_count": null,
   "metadata": {},
   "outputs": [],
   "source": [
    "import pandas as pd"
   ]
  },
  {
   "cell_type": "code",
   "execution_count": null,
   "metadata": {},
   "outputs": [],
   "source": [
    "# Reads in the data from http://www.dinodatabase.com/dinorcds.asp\n",
    "# Notable for containing information about height, length, and weight for\n",
    "# certain dinosaurs. The csv was manually edited in certain areas where the\n",
    "# formatting was inconsistent\n",
    "metrics = pd.read_csv(\"heightslengthsweights.csv\")"
   ]
  },
  {
   "cell_type": "code",
   "execution_count": null,
   "metadata": {},
   "outputs": [],
   "source": [
    "# Function to be used on the height and length columns to consolidate the\n",
    "# value to a float that represents meters\n",
    "def meters_only(numstring):\n",
    "    new = numstring.split(\" \")\n",
    "    return float(new[2])\n",
    "# Function to be used on the weight column to consolidate into kilograms\n",
    "def kg_only(weight):\n",
    "    new = weight.split(\" \")\n",
    "    return float(new[1].strip(\"kg.\").replace(\",\", \"\"))"
   ]
  },
  {
   "cell_type": "code",
   "execution_count": null,
   "metadata": {},
   "outputs": [],
   "source": [
    "# Using the functions to clean the columns\n",
    "met_height = metrics.assign(Height = metrics['Height'].apply(meters_only))\n",
    "met_length = met_height.assign(Length = met_height['Length'].apply(meters_only))\n",
    "met_all = met_length.assign(Weight = met_length['Weight'].apply(kg_only))"
   ]
  },
  {
   "cell_type": "code",
   "execution_count": null,
   "metadata": {},
   "outputs": [],
   "source": [
    "# Cleans the name to make it consistent with Jurassic Park dataset\n",
    "met_all = met_all.assign(Name = met_all['Name'].apply(lambda x: x.split(\"\\xa0\")[0].lower))"
   ]
  },
  {
   "cell_type": "code",
   "execution_count": null,
   "metadata": {},
   "outputs": [],
   "source": [
    "# Using scatter plots to see which variable correlates more to weight, seems\n",
    "# to be length\n",
    "met_all.plot(kind = \"scatter\", x = 'Height', y = 'Weight')\n",
    "met_all.plot(kind = \"scatter\", x = 'Length', y = 'Weight')"
   ]
  },
  {
   "cell_type": "code",
   "execution_count": null,
   "metadata": {},
   "outputs": [],
   "source": [
    "# Imports numpy in order to use polyfit to find a polynomial regerssion line\n",
    "import numpy as np"
   ]
  },
  {
   "cell_type": "code",
   "execution_count": null,
   "metadata": {},
   "outputs": [],
   "source": [
    "# Finds coefficients for a quadratic regression line. Upon manual review,\n",
    "# quadratic seemed to work better than cubic or linear\n",
    "coeffs2 = np.polyfit(met_all['Length'], met_all['Weight'], 2)"
   ]
  },
  {
   "cell_type": "code",
   "execution_count": null,
   "metadata": {},
   "outputs": [],
   "source": [
    "# Prediction function using the quadratic coefficients. Some values for\n",
    "# really small lengths returned negative numbers, so a lower bound is set at 1\n",
    "def pred_weight2(length):\n",
    "    a = coeffs2[0]*length**2\n",
    "    b = coeffs2[1]*length**1\n",
    "    c = coeffs2[2]\n",
    "    return max([a + b + c, 1])"
   ]
  },
  {
   "cell_type": "code",
   "execution_count": null,
   "metadata": {},
   "outputs": [],
   "source": [
    "# Reads data from https://www.kaggle.com/datasets/kjanjua/jurassic-park-the-exhaustive-dinosaur-dataset\n",
    "jurassicpark = pd.read_csv(\"jurassicpark.csv\")"
   ]
  },
  {
   "cell_type": "code",
   "execution_count": null,
   "metadata": {},
   "outputs": [],
   "source": [
    "# Drops the \"m\" for meter and turns into a float\n",
    "jurassicpark = jurassicpark.dropna()\n",
    "jurassicpark = jurassicpark.assign(length = jurassicpark['length'].apply(lambda x: float(x[:-1])))"
   ]
  },
  {
   "cell_type": "code",
   "execution_count": null,
   "metadata": {},
   "outputs": [],
   "source": [
    "# Function for assigning a weight based on the name. \n",
    "def assign_weight(name):\n",
    "    if name in list(met_all['Name']):\n",
    "        return met_all[met_all['Name'] == name]['Weight'].iloc[0]\n",
    "    length = jurassicpark[jurassicpark['name'] == name]['length'].iloc[0]\n",
    "    return pred_weight2(length)"
   ]
  },
  {
   "cell_type": "code",
   "execution_count": null,
   "metadata": {},
   "outputs": [],
   "source": [
    "# Creates weight column\n",
    "jurassicpark = jurassicpark.assign(weight = jurassicpark['name'].apply(assign_weight))"
   ]
  },
  {
   "cell_type": "code",
   "execution_count": null,
   "metadata": {},
   "outputs": [],
   "source": [
    "# Exports as new csv\n",
    "jurassicpark.to_csv(\"jurassicparkwithweights.csv\")"
   ]
  }
 ],
 "metadata": {
  "kernelspec": {
   "display_name": "Python 3",
   "language": "python",
   "name": "python3"
  },
  "language_info": {
   "name": "python",
   "version": "3.10.11"
  }
 },
 "nbformat": 4,
 "nbformat_minor": 2
}
