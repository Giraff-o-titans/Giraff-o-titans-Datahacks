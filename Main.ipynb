{
 "cells": [
  {
   "cell_type": "code",
   "execution_count": null,
   "metadata": {},
   "outputs": [],
   "source": [
    "import matplotlib.pyplot as plt\n",
    "import pandas as pd\n",
    "import numpy as npp"
   ]
  },
  {
   "cell_type": "code",
   "execution_count": null,
   "metadata": {},
   "outputs": [],
   "source": [
    "import torch\n",
    "import torch.nn as nn\n",
    "import torch.optim as optim\n",
    "from torch.utils.data import DataLoader, Dataset, TensorDataset\n",
    "from torchvision import transforms\n",
    "from sklearn.model_selection import train_test_split"
   ]
  },
  {
   "cell_type": "code",
   "execution_count": null,
   "metadata": {},
   "outputs": [],
   "source": [
    "dinosaurs = pd.read_csv('Datasets/dinosaur.csv')"
   ]
  },
  {
   "cell_type": "code",
   "execution_count": null,
   "metadata": {},
   "outputs": [],
   "source": [
    "def clean_diet(diet):\n",
    "    out = diet.strip(\"(\")\n",
    "    out = out.strip(\")\")\n",
    "    out = out.lower()\n",
    "    out = out.strip(\"?\")\n",
    "    if \"/\" in out:\n",
    "        out = out[:9]\n",
    "    if out == \"omnivorous\":\n",
    "        out = \"omnivore\"\n",
    "    return out\n",
    "def clean_period(period):\n",
    "    d = {\n",
    "        \"Jurassic\": \"Jurassic\",\n",
    "        \"Cretaceous\\xa0\\xa0\\xa0\\xa0\\xa0\\xa0\\xa0\":\"Cretaceous\",\n",
    "        \"Cretaceous\": \"Cretaceous\",\n",
    "        \"Triassic\": \"Triassic\",\n",
    "        \"Jurassic/Cretaceous\":\"Jurassic\",\n",
    "        \"Late Triassic\": \"Triassic\",\n",
    "        \"Late Cretaceous\": \"Cretaceous\",\n",
    "        \"Triassic or Jurassic\": \"Triassic\",\n",
    "        \"Middle Jurassic\": \"Jurassic\",\n",
    "        \"Early Cretaceous\": \"Cretaceous\",\n",
    "        \"Early-Late Cretaceous\": \"Cretaceous\",\n",
    "        \"Early Jurassic\": \"Jurassic\",\n",
    "        \"Triassic/Jurassic\": \"Triassic\",\n",
    "        \"(unknown)\": \"unknown\"\n",
    "    }\n",
    "    return d[period]"
   ]
  },
  {
   "cell_type": "code",
   "execution_count": null,
   "metadata": {},
   "outputs": [],
   "source": [
    "cleaned_dinosaurs = dinosaurs.assign(\n",
    "    Period = dinosaurs[\"Period\"].apply(clean_period),\n",
    "    Diet = dinosaurs[\"Diet\"].apply(clean_diet)\n",
    "    )"
   ]
  },
  {
   "cell_type": "code",
   "execution_count": null,
   "metadata": {},
   "outputs": [],
   "source": [
    "cleaned_dinosaurs.groupby(\"Period\").count()[[\"Name\"]].drop(index='unknown').plot(kind='barh')"
   ]
  },
  {
   "cell_type": "code",
   "execution_count": null,
   "metadata": {},
   "outputs": [],
   "source": [
    "cleaned_dinosaurs.groupby(\"Diet\").count()"
   ]
  },
  {
   "cell_type": "code",
   "execution_count": null,
   "metadata": {},
   "outputs": [],
   "source": [
    "def clean_countries(country):\n",
    "    replace = '?(),'\n",
    "    for char in replace:\n",
    "        country.replace(char, '')\n",
    "    \n",
    "    if country.split()[0] == 'South' or country.split()[0] == 'North' or len(country.split())==0:\n",
    "        return str(country)\n",
    "    else:\n",
    "        return str(country.split())\n",
    "\n",
    "temp = cleaned_dinosaurs.assign(Country = cleaned_dinosaurs[\"Country\"].apply(clean_countries))\n",
    "temp"
   ]
  },
  {
   "cell_type": "markdown",
   "metadata": {},
   "source": []
  }
 ],
 "metadata": {
  "kernelspec": {
   "display_name": "Python 3",
   "language": "python",
   "name": "python3"
  },
  "language_info": {
   "codemirror_mode": {
    "name": "ipython",
    "version": 3
   },
   "file_extension": ".py",
   "mimetype": "text/x-python",
   "name": "python",
   "nbconvert_exporter": "python",
   "pygments_lexer": "ipython3",
   "version": "3.12.1"
  }
 },
 "nbformat": 4,
 "nbformat_minor": 2
}
